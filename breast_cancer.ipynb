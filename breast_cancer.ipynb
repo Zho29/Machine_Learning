{
 "cells": [
  {
   "cell_type": "code",
   "execution_count": 1,
   "id": "1115b925-7bcb-433e-96f2-b0df5a302b83",
   "metadata": {},
   "outputs": [],
   "source": [
    "import pandas as pd\n",
    "import numpy as np\n",
    "import matplotlib.pyplot as plt\n",
    "import seaborn as sns"
   ]
  },
  {
   "cell_type": "code",
   "execution_count": 2,
   "id": "c066b1c1-ab5e-41e8-bd9f-21d813454c5f",
   "metadata": {},
   "outputs": [
    {
     "name": "stdout",
     "output_type": "stream",
     "text": [
      "<class 'pandas.core.frame.DataFrame'>\n",
      "RangeIndex: 569 entries, 0 to 568\n",
      "Data columns (total 33 columns):\n",
      " #   Column                   Non-Null Count  Dtype  \n",
      "---  ------                   --------------  -----  \n",
      " 0   id                       569 non-null    int64  \n",
      " 1   diagnosis                569 non-null    object \n",
      " 2   radius_mean              569 non-null    float64\n",
      " 3   texture_mean             569 non-null    float64\n",
      " 4   perimeter_mean           569 non-null    float64\n",
      " 5   area_mean                569 non-null    float64\n",
      " 6   smoothness_mean          569 non-null    float64\n",
      " 7   compactness_mean         569 non-null    float64\n",
      " 8   concavity_mean           569 non-null    float64\n",
      " 9   concave points_mean      569 non-null    float64\n",
      " 10  symmetry_mean            569 non-null    float64\n",
      " 11  fractal_dimension_mean   569 non-null    float64\n",
      " 12  radius_se                569 non-null    float64\n",
      " 13  texture_se               569 non-null    float64\n",
      " 14  perimeter_se             569 non-null    float64\n",
      " 15  area_se                  569 non-null    float64\n",
      " 16  smoothness_se            569 non-null    float64\n",
      " 17  compactness_se           569 non-null    float64\n",
      " 18  concavity_se             569 non-null    float64\n",
      " 19  concave points_se        569 non-null    float64\n",
      " 20  symmetry_se              569 non-null    float64\n",
      " 21  fractal_dimension_se     569 non-null    float64\n",
      " 22  radius_worst             569 non-null    float64\n",
      " 23  texture_worst            569 non-null    float64\n",
      " 24  perimeter_worst          569 non-null    float64\n",
      " 25  area_worst               569 non-null    float64\n",
      " 26  smoothness_worst         569 non-null    float64\n",
      " 27  compactness_worst        569 non-null    float64\n",
      " 28  concavity_worst          569 non-null    float64\n",
      " 29  concave points_worst     569 non-null    float64\n",
      " 30  symmetry_worst           569 non-null    float64\n",
      " 31  fractal_dimension_worst  569 non-null    float64\n",
      " 32  Unnamed: 32              0 non-null      float64\n",
      "dtypes: float64(31), int64(1), object(1)\n",
      "memory usage: 146.8+ KB\n"
     ]
    }
   ],
   "source": [
    "data=pd.read_csv(\"cancer.csv\")\n",
    "data.info()"
   ]
  },
  {
   "cell_type": "code",
   "execution_count": 3,
   "id": "a68be512-91b7-4ede-af69-7ed2babe6ad1",
   "metadata": {},
   "outputs": [
    {
     "name": "stdout",
     "output_type": "stream",
     "text": [
      "         id diagnosis  radius_mean  texture_mean  perimeter_mean  area_mean  \\\n",
      "0    842302         M        17.99         10.38          122.80     1001.0   \n",
      "1    842517         M        20.57         17.77          132.90     1326.0   \n",
      "2  84300903         M        19.69         21.25          130.00     1203.0   \n",
      "3  84348301         M        11.42         20.38           77.58      386.1   \n",
      "4  84358402         M        20.29         14.34          135.10     1297.0   \n",
      "\n",
      "   smoothness_mean  compactness_mean  concavity_mean  concave points_mean  \\\n",
      "0          0.11840           0.27760          0.3001              0.14710   \n",
      "1          0.08474           0.07864          0.0869              0.07017   \n",
      "2          0.10960           0.15990          0.1974              0.12790   \n",
      "3          0.14250           0.28390          0.2414              0.10520   \n",
      "4          0.10030           0.13280          0.1980              0.10430   \n",
      "\n",
      "   ...  texture_worst  perimeter_worst  area_worst  smoothness_worst  \\\n",
      "0  ...          17.33           184.60      2019.0            0.1622   \n",
      "1  ...          23.41           158.80      1956.0            0.1238   \n",
      "2  ...          25.53           152.50      1709.0            0.1444   \n",
      "3  ...          26.50            98.87       567.7            0.2098   \n",
      "4  ...          16.67           152.20      1575.0            0.1374   \n",
      "\n",
      "   compactness_worst  concavity_worst  concave points_worst  symmetry_worst  \\\n",
      "0             0.6656           0.7119                0.2654          0.4601   \n",
      "1             0.1866           0.2416                0.1860          0.2750   \n",
      "2             0.4245           0.4504                0.2430          0.3613   \n",
      "3             0.8663           0.6869                0.2575          0.6638   \n",
      "4             0.2050           0.4000                0.1625          0.2364   \n",
      "\n",
      "   fractal_dimension_worst  Unnamed: 32  \n",
      "0                  0.11890          NaN  \n",
      "1                  0.08902          NaN  \n",
      "2                  0.08758          NaN  \n",
      "3                  0.17300          NaN  \n",
      "4                  0.07678          NaN  \n",
      "\n",
      "[5 rows x 33 columns]\n"
     ]
    }
   ],
   "source": [
    "print(data.head())"
   ]
  },
  {
   "cell_type": "code",
   "execution_count": 4,
   "id": "86cfae24-ddcb-4bb5-95f3-0e8cf4828834",
   "metadata": {},
   "outputs": [
    {
     "name": "stdout",
     "output_type": "stream",
     "text": [
      "id                           0\n",
      "diagnosis                    0\n",
      "radius_mean                  0\n",
      "texture_mean                 0\n",
      "perimeter_mean               0\n",
      "area_mean                    0\n",
      "smoothness_mean              0\n",
      "compactness_mean             0\n",
      "concavity_mean               0\n",
      "concave points_mean          0\n",
      "symmetry_mean                0\n",
      "fractal_dimension_mean       0\n",
      "radius_se                    0\n",
      "texture_se                   0\n",
      "perimeter_se                 0\n",
      "area_se                      0\n",
      "smoothness_se                0\n",
      "compactness_se               0\n",
      "concavity_se                 0\n",
      "concave points_se            0\n",
      "symmetry_se                  0\n",
      "fractal_dimension_se         0\n",
      "radius_worst                 0\n",
      "texture_worst                0\n",
      "perimeter_worst              0\n",
      "area_worst                   0\n",
      "smoothness_worst             0\n",
      "compactness_worst            0\n",
      "concavity_worst              0\n",
      "concave points_worst         0\n",
      "symmetry_worst               0\n",
      "fractal_dimension_worst      0\n",
      "Unnamed: 32                569\n",
      "dtype: int64\n"
     ]
    }
   ],
   "source": [
    "print(data.isnull().sum())\n"
   ]
  },
  {
   "cell_type": "code",
   "execution_count": 10,
   "id": "cc172721-3bd0-45bb-aa14-1d58bd25a53c",
   "metadata": {},
   "outputs": [
    {
     "name": "stdout",
     "output_type": "stream",
     "text": [
      "Index(['id', 'diagnosis', 'radius_mean', 'texture_mean', 'perimeter_mean',\n",
      "       'area_mean', 'smoothness_mean', 'compactness_mean', 'concavity_mean',\n",
      "       'concave points_mean', 'symmetry_mean', 'fractal_dimension_mean',\n",
      "       'radius_se', 'texture_se', 'perimeter_se', 'area_se', 'smoothness_se',\n",
      "       'compactness_se', 'concavity_se', 'concave points_se', 'symmetry_se',\n",
      "       'fractal_dimension_se', 'radius_worst', 'texture_worst',\n",
      "       'perimeter_worst', 'area_worst', 'smoothness_worst',\n",
      "       'compactness_worst', 'concavity_worst', 'concave points_worst',\n",
      "       'symmetry_worst', 'fractal_dimension_worst', 'Unnamed: 32'],\n",
      "      dtype='object')\n"
     ]
    }
   ],
   "source": [
    "print(data.columns)"
   ]
  },
  {
   "cell_type": "code",
   "execution_count": 11,
   "id": "83133180-5b67-4461-80ea-d85ef7ff6b5d",
   "metadata": {},
   "outputs": [],
   "source": [
    "data.drop(columns=['id', 'Unnamed: 32'], inplace=True)"
   ]
  },
  {
   "cell_type": "code",
   "execution_count": 12,
   "id": "140f3672-8a5a-48cb-932b-2f6e80fc93ce",
   "metadata": {},
   "outputs": [
    {
     "name": "stdout",
     "output_type": "stream",
     "text": [
      "<class 'pandas.core.frame.DataFrame'>\n",
      "RangeIndex: 569 entries, 0 to 568\n",
      "Data columns (total 31 columns):\n",
      " #   Column                   Non-Null Count  Dtype  \n",
      "---  ------                   --------------  -----  \n",
      " 0   diagnosis                569 non-null    object \n",
      " 1   radius_mean              569 non-null    float64\n",
      " 2   texture_mean             569 non-null    float64\n",
      " 3   perimeter_mean           569 non-null    float64\n",
      " 4   area_mean                569 non-null    float64\n",
      " 5   smoothness_mean          569 non-null    float64\n",
      " 6   compactness_mean         569 non-null    float64\n",
      " 7   concavity_mean           569 non-null    float64\n",
      " 8   concave points_mean      569 non-null    float64\n",
      " 9   symmetry_mean            569 non-null    float64\n",
      " 10  fractal_dimension_mean   569 non-null    float64\n",
      " 11  radius_se                569 non-null    float64\n",
      " 12  texture_se               569 non-null    float64\n",
      " 13  perimeter_se             569 non-null    float64\n",
      " 14  area_se                  569 non-null    float64\n",
      " 15  smoothness_se            569 non-null    float64\n",
      " 16  compactness_se           569 non-null    float64\n",
      " 17  concavity_se             569 non-null    float64\n",
      " 18  concave points_se        569 non-null    float64\n",
      " 19  symmetry_se              569 non-null    float64\n",
      " 20  fractal_dimension_se     569 non-null    float64\n",
      " 21  radius_worst             569 non-null    float64\n",
      " 22  texture_worst            569 non-null    float64\n",
      " 23  perimeter_worst          569 non-null    float64\n",
      " 24  area_worst               569 non-null    float64\n",
      " 25  smoothness_worst         569 non-null    float64\n",
      " 26  compactness_worst        569 non-null    float64\n",
      " 27  concavity_worst          569 non-null    float64\n",
      " 28  concave points_worst     569 non-null    float64\n",
      " 29  symmetry_worst           569 non-null    float64\n",
      " 30  fractal_dimension_worst  569 non-null    float64\n",
      "dtypes: float64(30), object(1)\n",
      "memory usage: 137.9+ KB\n",
      "None\n"
     ]
    }
   ],
   "source": [
    "print(data.info())"
   ]
  },
  {
   "cell_type": "code",
   "execution_count": 14,
   "id": "45d6ec4a-0370-4232-9623-120dd08245e0",
   "metadata": {},
   "outputs": [
    {
     "name": "stdout",
     "output_type": "stream",
     "text": [
      "0    1\n",
      "1    1\n",
      "2    1\n",
      "3    1\n",
      "4    1\n",
      "Name: diagnosis, dtype: int64\n"
     ]
    }
   ],
   "source": [
    "data['diagnosis']=data['diagnosis'].map({\"M\":1,\"B\":0})\n",
    "print(data['diagnosis'].head())"
   ]
  },
  {
   "cell_type": "code",
   "execution_count": 29,
   "id": "595405de-ebc8-45f1-96c8-5617ae6a269a",
   "metadata": {},
   "outputs": [],
   "source": [
    "#Create a feature and target value \n",
    "x_data=data.drop(['diagnosis'],axis=1)\n",
    "y=data['diagnosis'].values"
   ]
  },
  {
   "cell_type": "code",
   "execution_count": 37,
   "id": "b174b417-b790-4a8e-8238-9a07a972e675",
   "metadata": {},
   "outputs": [
    {
     "name": "stdout",
     "output_type": "stream",
     "text": [
      "[[0.52103744 0.0226581  0.54598853 ... 0.91202749 0.59846245 0.41886396]\n",
      " [0.64314449 0.27257355 0.61578329 ... 0.63917526 0.23358959 0.22287813]\n",
      " [0.60149557 0.3902604  0.59574321 ... 0.83505155 0.40370589 0.21343303]\n",
      " ...\n",
      " [0.45525108 0.62123774 0.44578813 ... 0.48728522 0.12872068 0.1519087 ]\n",
      " [0.64456434 0.66351031 0.66553797 ... 0.91065292 0.49714173 0.45231536]\n",
      " [0.03686876 0.50152181 0.02853984 ... 0.         0.25744136 0.10068215]]\n"
     ]
    }
   ],
   "source": [
    "#Normalize the dataset \n",
    "from sklearn.preprocessing import MinMaxScaler\n",
    "\n",
    "scaler=MinMaxScaler()\n",
    "x=scaler.fit_transform(x_data)\n",
    "print(x)"
   ]
  },
  {
   "cell_type": "code",
   "execution_count": 44,
   "id": "8d87b3c5-198d-4410-9295-3ebdb91c8717",
   "metadata": {},
   "outputs": [],
   "source": [
    "#Split the data into our training and testing \n",
    "from sklearn.model_selection import train_test_split\n",
    "\n",
    "x_train,x_test,y_train,y_test=train_test_split(x,y,test_size=0.15,random_state=42)"
   ]
  },
  {
   "cell_type": "code",
   "execution_count": 45,
   "id": "79d1f215-7cd7-4590-80c2-884ed4264cb2",
   "metadata": {},
   "outputs": [
    {
     "name": "stdout",
     "output_type": "stream",
     "text": [
      "(483, 30)\n",
      "(86, 30)\n",
      "(483,)\n",
      "(86,)\n"
     ]
    }
   ],
   "source": [
    "\n",
    "print(x_train.shape)\n",
    "print(x_test.shape)\n",
    "print(y_train.shape)\n",
    "print(y_test.shape)"
   ]
  },
  {
   "cell_type": "code",
   "execution_count": 43,
   "id": "18c4d8cf-49fb-4dec-a975-c74b1aede912",
   "metadata": {},
   "outputs": [
    {
     "name": "stdout",
     "output_type": "stream",
     "text": [
      "weights(w): (1, 30)\n",
      "bias(b) (1,)\n"
     ]
    }
   ],
   "source": [
    "from sklearn.linear_model import LogisticRegression\n",
    "\n",
    "model=LogisticRegression()\n",
    "model.fit(x_train,y_train)\n",
    "\n",
    "weights=model.coef_\n",
    "bias=model.intercept_\n",
    "\n",
    "print(\"weights(w):\", weights.shape)\n",
    "print(\"bias(b)\",bias.shape)\n"
   ]
  },
  {
   "cell_type": "code",
   "execution_count": 46,
   "id": "7708c2e3-44cd-4224-9e40-c7cccd329a5a",
   "metadata": {},
   "outputs": [
    {
     "name": "stdout",
     "output_type": "stream",
     "text": [
      "[0 1 1 0 0 1 1 1 0 0 0 1 0 1 0 1 0 0 0 1 0 0 1 0 0 0 0 0 0 1 0 0 0 0 0 0 1\n",
      " 0 1 0 0 1 0 0 0 0 0 0 0 0 1 1 0 0 0 0 0 1 1 0 0 1 1 0 0 0 1 1 0 0 1 1 0 1\n",
      " 0 0 0 0 0 0 1 0 1 1 1 1]\n",
      "[[8.28222527e-01 1.71777473e-01]\n",
      " [3.18516944e-02 9.68148306e-01]\n",
      " [1.64193079e-01 8.35806921e-01]\n",
      " [9.46481839e-01 5.35181609e-02]\n",
      " [9.81708519e-01 1.82914808e-02]\n",
      " [6.41277465e-05 9.99935872e-01]\n",
      " [6.62364626e-04 9.99337635e-01]\n",
      " [2.97743968e-01 7.02256032e-01]\n",
      " [5.25832456e-01 4.74167544e-01]\n",
      " [9.62161814e-01 3.78381857e-02]\n",
      " [8.79772222e-01 1.20227778e-01]\n",
      " [2.57040916e-01 7.42959084e-01]\n",
      " [9.21776138e-01 7.82238618e-02]\n",
      " [3.26327113e-01 6.73672887e-01]\n",
      " [9.60916011e-01 3.90839887e-02]\n",
      " [2.06675311e-02 9.79332469e-01]\n",
      " [9.48646728e-01 5.13532721e-02]\n",
      " [9.93596942e-01 6.40305832e-03]\n",
      " [9.98714480e-01 1.28552035e-03]\n",
      " [5.22179197e-03 9.94778208e-01]\n",
      " [7.42021828e-01 2.57978172e-01]\n",
      " [9.27455032e-01 7.25449676e-02]\n",
      " [4.45727175e-04 9.99554273e-01]\n",
      " [9.92445867e-01 7.55413334e-03]\n",
      " [9.64862803e-01 3.51371966e-02]\n",
      " [9.46875753e-01 5.31242472e-02]\n",
      " [9.51952413e-01 4.80475871e-02]\n",
      " [9.31854061e-01 6.81459392e-02]\n",
      " [9.40690688e-01 5.93093116e-02]\n",
      " [8.97674475e-03 9.91023255e-01]\n",
      " [9.63322237e-01 3.66777625e-02]\n",
      " [9.84611445e-01 1.53885547e-02]\n",
      " [9.78628633e-01 2.13713666e-02]\n",
      " [9.36971623e-01 6.30283766e-02]\n",
      " [9.85313414e-01 1.46865862e-02]\n",
      " [9.67150039e-01 3.28499610e-02]\n",
      " [4.75792163e-01 5.24207837e-01]\n",
      " [9.77228466e-01 2.27715343e-02]\n",
      " [3.87704985e-02 9.61229501e-01]\n",
      " [8.33015529e-01 1.66984471e-01]\n",
      " [9.86186272e-01 1.38137279e-02]\n",
      " [1.34491571e-01 8.65508429e-01]\n",
      " [9.36063141e-01 6.39368589e-02]\n",
      " [9.68179615e-01 3.18203853e-02]\n",
      " [9.29888289e-01 7.01117109e-02]\n",
      " [9.08217524e-01 9.17824764e-02]\n",
      " [9.79667885e-01 2.03321146e-02]\n",
      " [9.88424036e-01 1.15759639e-02]\n",
      " [8.90038108e-01 1.09961892e-01]\n",
      " [9.56143307e-01 4.38566928e-02]\n",
      " [4.99220322e-02 9.50077968e-01]\n",
      " [2.87731575e-03 9.97122684e-01]\n",
      " [6.43848095e-01 3.56151905e-01]\n",
      " [8.90740038e-01 1.09259962e-01]\n",
      " [9.80911799e-01 1.90882009e-02]\n",
      " [9.19887274e-01 8.01127264e-02]\n",
      " [9.77908069e-01 2.20919308e-02]\n",
      " [2.57107742e-05 9.99974289e-01]\n",
      " [3.17401602e-01 6.82598398e-01]\n",
      " [9.83338376e-01 1.66616236e-02]\n",
      " [9.27114076e-01 7.28859239e-02]\n",
      " [4.21888039e-03 9.95781120e-01]\n",
      " [1.84965553e-03 9.98150344e-01]\n",
      " [8.71143836e-01 1.28856164e-01]\n",
      " [9.77059448e-01 2.29405522e-02]\n",
      " [8.08669861e-01 1.91330139e-01]\n",
      " [1.82224346e-02 9.81777565e-01]\n",
      " [1.87799862e-04 9.99812200e-01]\n",
      " [9.71867910e-01 2.81320899e-02]\n",
      " [8.65583134e-01 1.34416866e-01]\n",
      " [1.76894290e-01 8.23105710e-01]\n",
      " [1.09484550e-01 8.90515450e-01]\n",
      " [9.40399871e-01 5.96001293e-02]\n",
      " [8.41365970e-02 9.15863403e-01]\n",
      " [9.95157651e-01 4.84234920e-03]\n",
      " [8.71490952e-01 1.28509048e-01]\n",
      " [8.90998471e-01 1.09001529e-01]\n",
      " [5.86599813e-01 4.13400187e-01]\n",
      " [9.94159282e-01 5.84071793e-03]\n",
      " [8.94314612e-01 1.05685388e-01]\n",
      " [1.56222342e-01 8.43777658e-01]\n",
      " [9.92574751e-01 7.42524911e-03]\n",
      " [4.89178015e-01 5.10821985e-01]\n",
      " [1.67841289e-03 9.98321587e-01]\n",
      " [1.80731704e-01 8.19268296e-01]\n",
      " [4.97689591e-02 9.50231041e-01]]\n"
     ]
    }
   ],
   "source": [
    "y_pred = model.predict(x_test)\n",
    "y_pred_proba = model.predict_proba(x_test)\n",
    "\n",
    "print(y_pred)\n",
    "print(y_pred_proba)"
   ]
  },
  {
   "cell_type": "code",
   "execution_count": 47,
   "id": "a8e1b42d-95bb-4fec-b8ce-31ea3ccf6cb6",
   "metadata": {},
   "outputs": [
    {
     "name": "stdout",
     "output_type": "stream",
     "text": [
      "Accuracy: 0.9767441860465116\n"
     ]
    }
   ],
   "source": [
    "from sklearn.metrics import accuracy_score\n",
    "\n",
    "accuracy = accuracy_score(y_test, y_pred)\n",
    "print(f\"Accuracy: {accuracy}\")"
   ]
  },
  {
   "cell_type": "code",
   "execution_count": 48,
   "id": "a574edef-d3ce-450a-b141-c155ce454762",
   "metadata": {},
   "outputs": [
    {
     "name": "stdout",
     "output_type": "stream",
     "text": [
      "Confusion Matrix:\n",
      " [[54  0]\n",
      " [ 2 30]]\n"
     ]
    }
   ],
   "source": [
    "from sklearn.metrics import confusion_matrix\n",
    "\n",
    "cm = confusion_matrix(y_test, y_pred)\n",
    "print(\"Confusion Matrix:\\n\", cm)"
   ]
  },
  {
   "cell_type": "code",
   "execution_count": 49,
   "id": "a14f539b-f2cc-405e-9a20-042cfcf3ec9c",
   "metadata": {},
   "outputs": [
    {
     "name": "stdout",
     "output_type": "stream",
     "text": [
      "Classification Report:\n",
      "               precision    recall  f1-score   support\n",
      "\n",
      "           0       0.96      1.00      0.98        54\n",
      "           1       1.00      0.94      0.97        32\n",
      "\n",
      "    accuracy                           0.98        86\n",
      "   macro avg       0.98      0.97      0.97        86\n",
      "weighted avg       0.98      0.98      0.98        86\n",
      "\n"
     ]
    }
   ],
   "source": [
    "from sklearn.metrics import classification_report\n",
    "\n",
    "report = classification_report(y_test, y_pred)\n",
    "print(\"Classification Report:\\n\", report)"
   ]
  }
 ],
 "metadata": {
  "kernelspec": {
   "display_name": "Python 3 (ipykernel)",
   "language": "python",
   "name": "python3"
  },
  "language_info": {
   "codemirror_mode": {
    "name": "ipython",
    "version": 3
   },
   "file_extension": ".py",
   "mimetype": "text/x-python",
   "name": "python",
   "nbconvert_exporter": "python",
   "pygments_lexer": "ipython3",
   "version": "3.13.0"
  }
 },
 "nbformat": 4,
 "nbformat_minor": 5
}
